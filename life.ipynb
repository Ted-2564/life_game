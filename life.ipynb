{
 "cells": [
  {
   "cell_type": "code",
   "execution_count": null,
   "metadata": {},
   "outputs": [],
   "source": [
    "import numpy as np\n",
    "import matplotlib.pyplot as plt"
   ]
  },
  {
   "cell_type": "code",
   "execution_count": null,
   "metadata": {},
   "outputs": [],
   "source": [
    "x = np.zeros([42,42],dtype=int)\n",
    "y = np.zeros([42,42],dtype=int)"
   ]
  },
  {
   "cell_type": "markdown",
   "metadata": {},
   "source": [
    "o x o  \n",
    "o o x  \n",
    "x x x"
   ]
  },
  {
   "cell_type": "code",
   "execution_count": null,
   "metadata": {},
   "outputs": [],
   "source": [
    "x[1][2] = 1\n",
    "x[2][3] = 1\n",
    "x[3][1:4] = 1"
   ]
  },
  {
   "cell_type": "code",
   "execution_count": null,
   "metadata": {},
   "outputs": [],
   "source": [
    "def fresh():\n",
    "    global x\n",
    "    global y\n",
    "\n",
    "    for i in range(40):\n",
    "        for j in range(40):\n",
    "            center = x[i+1,j+1]\n",
    "            num = np.sum(x[i:i+3,j:j+3])\n",
    "            center\n",
    "            if (center==0 and num==3):\n",
    "                y[i+1,j+1]=1\n",
    "                continue\n",
    "            if center:\n",
    "                if num<3:\n",
    "                    y[i+1,j+1]=0\n",
    "                elif num<5:\n",
    "                    y[i+1,j+1]=1\n",
    "                else:\n",
    "                    y[i+1,j+1]=0\n",
    "    x = y"
   ]
  },
  {
   "cell_type": "code",
   "execution_count": null,
   "metadata": {},
   "outputs": [],
   "source": [
    "for i in range(50):\n",
    "    plt.clf()\n",
    "    fresh()\n",
    "    plt.imshow(x,cmap=\"gray\")\n",
    "    plt.pause(0.01)\n",
    "    plt.ioff("
   ]
  }
 ],
 "metadata": {
  "kernelspec": {
   "display_name": "Python 3",
   "language": "python",
   "name": "python3"
  },
  "language_info": {
   "codemirror_mode": {
    "name": "ipython",
    "version": 3
   },
   "file_extension": ".py",
   "mimetype": "text/x-python",
   "name": "python",
   "nbconvert_exporter": "python",
   "pygments_lexer": "ipython3",
   "version": "3.10.11"
  },
  "orig_nbformat": 4
 },
 "nbformat": 4,
 "nbformat_minor": 2
}
